{
 "cells": [
  {
   "cell_type": "code",
   "execution_count": 14,
   "metadata": {},
   "outputs": [
    {
     "name": "stdout",
     "output_type": "stream",
     "text": [
      "Collecting imblearn\n",
      "  Downloading imblearn-0.0-py2.py3-none-any.whl.metadata (355 bytes)\n",
      "Collecting imbalanced-learn (from imblearn)\n",
      "  Downloading imbalanced_learn-0.13.0-py3-none-any.whl.metadata (8.8 kB)\n",
      "Requirement already satisfied: numpy<3,>=1.24.3 in c:\\users\\akanksha.yadav\\appdata\\local\\packages\\pythonsoftwarefoundation.python.3.11_qbz5n2kfra8p0\\localcache\\local-packages\\python311\\site-packages (from imbalanced-learn->imblearn) (2.2.3)\n",
      "Requirement already satisfied: scipy<2,>=1.10.1 in c:\\users\\akanksha.yadav\\appdata\\local\\packages\\pythonsoftwarefoundation.python.3.11_qbz5n2kfra8p0\\localcache\\local-packages\\python311\\site-packages (from imbalanced-learn->imblearn) (1.15.2)\n",
      "Collecting scikit-learn<2,>=1.3.2 (from imbalanced-learn->imblearn)\n",
      "  Downloading scikit_learn-1.6.1-cp311-cp311-win_amd64.whl.metadata (15 kB)\n",
      "Collecting sklearn-compat<1,>=0.1 (from imbalanced-learn->imblearn)\n",
      "  Downloading sklearn_compat-0.1.3-py3-none-any.whl.metadata (18 kB)\n",
      "Collecting joblib<2,>=1.1.1 (from imbalanced-learn->imblearn)\n",
      "  Downloading joblib-1.4.2-py3-none-any.whl.metadata (5.4 kB)\n",
      "Collecting threadpoolctl<4,>=2.0.0 (from imbalanced-learn->imblearn)\n",
      "  Downloading threadpoolctl-3.5.0-py3-none-any.whl.metadata (13 kB)\n",
      "Downloading imblearn-0.0-py2.py3-none-any.whl (1.9 kB)\n",
      "Downloading imbalanced_learn-0.13.0-py3-none-any.whl (238 kB)\n",
      "   ---------------------------------------- 0.0/238.4 kB ? eta -:--:--\n",
      "   ---------------------------------------  235.5/238.4 kB 7.0 MB/s eta 0:00:01\n",
      "   ---------------------------------------- 238.4/238.4 kB 7.1 MB/s eta 0:00:00\n",
      "Downloading joblib-1.4.2-py3-none-any.whl (301 kB)\n",
      "   ---------------------------------------- 0.0/301.8 kB ? eta -:--:--\n",
      "   ---------------------------------------- 301.8/301.8 kB 9.4 MB/s eta 0:00:00\n",
      "Downloading scikit_learn-1.6.1-cp311-cp311-win_amd64.whl (11.1 MB)\n",
      "   ---------------------------------------- 0.0/11.1 MB ? eta -:--:--\n",
      "   - -------------------------------------- 0.5/11.1 MB 11.1 MB/s eta 0:00:01\n",
      "   ---- ----------------------------------- 1.3/11.1 MB 14.1 MB/s eta 0:00:01\n",
      "   ------- -------------------------------- 2.1/11.1 MB 15.1 MB/s eta 0:00:01\n",
      "   ---------- ----------------------------- 2.8/11.1 MB 14.9 MB/s eta 0:00:01\n",
      "   ------------ --------------------------- 3.6/11.1 MB 15.2 MB/s eta 0:00:01\n",
      "   --------------- ------------------------ 4.3/11.1 MB 14.3 MB/s eta 0:00:01\n",
      "   ------------------ --------------------- 5.1/11.1 MB 15.5 MB/s eta 0:00:01\n",
      "   --------------------- ------------------ 5.9/11.1 MB 15.0 MB/s eta 0:00:01\n",
      "   ----------------------- ---------------- 6.6/11.1 MB 15.0 MB/s eta 0:00:01\n",
      "   ------------------------- -------------- 7.2/11.1 MB 14.9 MB/s eta 0:00:01\n",
      "   --------------------------- ------------ 7.7/11.1 MB 14.1 MB/s eta 0:00:01\n",
      "   ----------------------------- ---------- 8.3/11.1 MB 14.4 MB/s eta 0:00:01\n",
      "   -------------------------------- ------- 8.9/11.1 MB 14.0 MB/s eta 0:00:01\n",
      "   ----------------------------------- ---- 9.8/11.1 MB 14.2 MB/s eta 0:00:01\n",
      "   ------------------------------------- -- 10.6/11.1 MB 14.2 MB/s eta 0:00:01\n",
      "   ---------------------------------------  10.9/11.1 MB 13.9 MB/s eta 0:00:01\n",
      "   ---------------------------------------- 11.1/11.1 MB 13.4 MB/s eta 0:00:00\n",
      "Downloading sklearn_compat-0.1.3-py3-none-any.whl (18 kB)\n",
      "Downloading threadpoolctl-3.5.0-py3-none-any.whl (18 kB)\n",
      "Installing collected packages: threadpoolctl, joblib, scikit-learn, sklearn-compat, imbalanced-learn, imblearn\n",
      "Successfully installed imbalanced-learn-0.13.0 imblearn-0.0 joblib-1.4.2 scikit-learn-1.6.1 sklearn-compat-0.1.3 threadpoolctl-3.5.0\n",
      "Note: you may need to restart the kernel to use updated packages.\n"
     ]
    },
    {
     "name": "stderr",
     "output_type": "stream",
     "text": [
      "\n",
      "[notice] A new release of pip is available: 24.0 -> 25.0.1\n",
      "[notice] To update, run: C:\\Users\\akanksha.yadav\\AppData\\Local\\Microsoft\\WindowsApps\\PythonSoftwareFoundation.Python.3.11_qbz5n2kfra8p0\\python.exe -m pip install --upgrade pip\n"
     ]
    }
   ],
   "source": [
    "pip install imblearn"
   ]
  },
  {
   "cell_type": "code",
   "execution_count": 15,
   "metadata": {},
   "outputs": [],
   "source": [
    "import pandas as pd\n",
    "from sklearn.preprocessing import LabelEncoder\n",
    "from sklearn.model_selection import train_test_split\n",
    "from imblearn.over_sampling import SMOTE\n",
    "from xgboost import XGBClassifier\n",
    "from sklearn.metrics import accuracy_score\n",
    "from sklearn.model_selection import StratifiedGroupKFold, cross_val_score\n"
   ]
  },
  {
   "cell_type": "code",
   "execution_count": 16,
   "metadata": {},
   "outputs": [
    {
     "data": {
      "text/plain": [
       "Chain                    0\n",
       "Store                    0\n",
       "Store Address            0\n",
       "State                    0\n",
       "City                     0\n",
       "Pin Code                 0\n",
       "Terminal Category        0\n",
       "Serial Number            0\n",
       "Software Version         0\n",
       "cf_utid                  0\n",
       "First Trx Date           0\n",
       "Last Trx Date            0\n",
       "ticket_id                0\n",
       "created_at               0\n",
       "cf_issue_sub_category    0\n",
       "issue_type               0\n",
       "status                   0\n",
       "dtype: int64"
      ]
     },
     "execution_count": 16,
     "metadata": {},
     "output_type": "execute_result"
    }
   ],
   "source": [
    "df=pd.read_csv(\"D:\\\\All Data till 21st Feb 2025\\\\D-MART ANALYSIS\\\\fd_tickets_202502181901.csv\")\n",
    "df.shape\n",
    "df.isnull().sum()\n",
    "df.fillna(df.mode().iloc[0],inplace=True)\n",
    "df.isnull().sum()"
   ]
  },
  {
   "cell_type": "code",
   "execution_count": 17,
   "metadata": {},
   "outputs": [
    {
     "data": {
      "text/html": [
       "<div>\n",
       "<style scoped>\n",
       "    .dataframe tbody tr th:only-of-type {\n",
       "        vertical-align: middle;\n",
       "    }\n",
       "\n",
       "    .dataframe tbody tr th {\n",
       "        vertical-align: top;\n",
       "    }\n",
       "\n",
       "    .dataframe thead th {\n",
       "        text-align: right;\n",
       "    }\n",
       "</style>\n",
       "<table border=\"1\" class=\"dataframe\">\n",
       "  <thead>\n",
       "    <tr style=\"text-align: right;\">\n",
       "      <th></th>\n",
       "      <th>Chain</th>\n",
       "      <th>Store</th>\n",
       "      <th>Store Address</th>\n",
       "      <th>State</th>\n",
       "      <th>City</th>\n",
       "      <th>Pin Code</th>\n",
       "      <th>Terminal Category</th>\n",
       "      <th>Serial Number</th>\n",
       "      <th>Software Version</th>\n",
       "      <th>cf_utid</th>\n",
       "      <th>First Trx Date</th>\n",
       "      <th>Last Trx Date</th>\n",
       "      <th>ticket_id</th>\n",
       "      <th>created_at</th>\n",
       "      <th>cf_issue_sub_category</th>\n",
       "      <th>issue_type</th>\n",
       "      <th>status</th>\n",
       "    </tr>\n",
       "  </thead>\n",
       "  <tbody>\n",
       "    <tr>\n",
       "      <th>0</th>\n",
       "      <td>DMART KARNATAKA</td>\n",
       "      <td>5616 D MART RAMMURTHY NGR</td>\n",
       "      <td>DMART AVENUE SUPERMARTS LTD ANR COMPLEX-RAMAMU...</td>\n",
       "      <td>KARNATAKA</td>\n",
       "      <td>BENGALURU</td>\n",
       "      <td>560016.0</td>\n",
       "      <td>Move 2500 4G</td>\n",
       "      <td>210867303061211220214180</td>\n",
       "      <td>M13_920810:uniPAY NEXT 8.0#02000000#WinXP_2.8....</td>\n",
       "      <td>M0015503</td>\n",
       "      <td>1/20/2022</td>\n",
       "      <td>2/17/2025</td>\n",
       "      <td>2983815</td>\n",
       "      <td>19/11/2024</td>\n",
       "      <td>Terminal Replacement - Working</td>\n",
       "      <td>Hardware Issue</td>\n",
       "      <td>resolved</td>\n",
       "    </tr>\n",
       "    <tr>\n",
       "      <th>1</th>\n",
       "      <td>DMART KARNATAKA</td>\n",
       "      <td>5616 D MART RAMMURTHY NGR</td>\n",
       "      <td>DMART AVENUE SUPERMARTS LTD ANR COMPLEX-RAMAMU...</td>\n",
       "      <td>KARNATAKA</td>\n",
       "      <td>BENGALURU</td>\n",
       "      <td>560016.0</td>\n",
       "      <td>Move 2500 4G</td>\n",
       "      <td>210867303061211220214180</td>\n",
       "      <td>M13_920810:uniPAY NEXT 8.0#02000000#WinXP_2.8....</td>\n",
       "      <td>M0015503</td>\n",
       "      <td>1/20/2022</td>\n",
       "      <td>2/17/2025</td>\n",
       "      <td>2983804</td>\n",
       "      <td>19/11/2024</td>\n",
       "      <td>Terminal Replacement - Working</td>\n",
       "      <td>Hardware Issue</td>\n",
       "      <td>resolved</td>\n",
       "    </tr>\n",
       "    <tr>\n",
       "      <th>2</th>\n",
       "      <td>DMART KARNATAKA</td>\n",
       "      <td>5616 D MART RAMMURTHY NGR</td>\n",
       "      <td>DMART AVENUE SUPERMARTS LTD ANR COMPLEX-RAMAMU...</td>\n",
       "      <td>KARNATAKA</td>\n",
       "      <td>BENGALURU</td>\n",
       "      <td>560016.0</td>\n",
       "      <td>Move 2500 4G</td>\n",
       "      <td>210867303061211220220672</td>\n",
       "      <td>M13_3829CF:uniPAY NEXT 8.0#02000000#WinXP_2.8....</td>\n",
       "      <td>M0015506</td>\n",
       "      <td>1/19/2022</td>\n",
       "      <td>2/19/2025</td>\n",
       "      <td>2983817</td>\n",
       "      <td>19/11/2024</td>\n",
       "      <td>Terminal Replacement - Working</td>\n",
       "      <td>Hardware Issue</td>\n",
       "      <td>resolved</td>\n",
       "    </tr>\n",
       "    <tr>\n",
       "      <th>3</th>\n",
       "      <td>DMART KARNATAKA</td>\n",
       "      <td>5616 D MART RAMMURTHY NGR</td>\n",
       "      <td>DMART AVENUE SUPERMARTS LTD ANR COMPLEX-RAMAMU...</td>\n",
       "      <td>KARNATAKA</td>\n",
       "      <td>BENGALURU</td>\n",
       "      <td>560016.0</td>\n",
       "      <td>Move 2500 4G</td>\n",
       "      <td>210867303061211220220672</td>\n",
       "      <td>M13_3829CF:uniPAY NEXT 8.0#02000000#WinXP_2.8....</td>\n",
       "      <td>M0015506</td>\n",
       "      <td>1/19/2022</td>\n",
       "      <td>2/19/2025</td>\n",
       "      <td>2983803</td>\n",
       "      <td>19/11/2024</td>\n",
       "      <td>Terminal Replacement - Working</td>\n",
       "      <td>Hardware Issue</td>\n",
       "      <td>resolved</td>\n",
       "    </tr>\n",
       "    <tr>\n",
       "      <th>4</th>\n",
       "      <td>DMART KARNATAKA</td>\n",
       "      <td>5631 DMART SRIGANDHA BANGALORE</td>\n",
       "      <td>DMART 6 A3 KISHAN ENTERPRISES HOYSALA-NAGAR NE...</td>\n",
       "      <td>KARNATAKA</td>\n",
       "      <td>BENGALURU</td>\n",
       "      <td>560091.0</td>\n",
       "      <td>Move 2500 4G</td>\n",
       "      <td>220637303061211223929476</td>\n",
       "      <td>M13_920810:uniPAY NEXT 8.0#02000000#WinXP_2.8....</td>\n",
       "      <td>M0016509</td>\n",
       "      <td>1/22/2022</td>\n",
       "      <td>2/19/2025</td>\n",
       "      <td>3002529</td>\n",
       "      <td>30/11/2024</td>\n",
       "      <td>Retrieval Post Replacement</td>\n",
       "      <td>Hardware Issue</td>\n",
       "      <td>open</td>\n",
       "    </tr>\n",
       "  </tbody>\n",
       "</table>\n",
       "</div>"
      ],
      "text/plain": [
       "             Chain                           Store  \\\n",
       "0  DMART KARNATAKA       5616 D MART RAMMURTHY NGR   \n",
       "1  DMART KARNATAKA       5616 D MART RAMMURTHY NGR   \n",
       "2  DMART KARNATAKA       5616 D MART RAMMURTHY NGR   \n",
       "3  DMART KARNATAKA       5616 D MART RAMMURTHY NGR   \n",
       "4  DMART KARNATAKA  5631 DMART SRIGANDHA BANGALORE   \n",
       "\n",
       "                                      Store Address       State       City  \\\n",
       "0  DMART AVENUE SUPERMARTS LTD ANR COMPLEX-RAMAMU...  KARNATAKA  BENGALURU   \n",
       "1  DMART AVENUE SUPERMARTS LTD ANR COMPLEX-RAMAMU...  KARNATAKA  BENGALURU   \n",
       "2  DMART AVENUE SUPERMARTS LTD ANR COMPLEX-RAMAMU...  KARNATAKA  BENGALURU   \n",
       "3  DMART AVENUE SUPERMARTS LTD ANR COMPLEX-RAMAMU...  KARNATAKA  BENGALURU   \n",
       "4  DMART 6 A3 KISHAN ENTERPRISES HOYSALA-NAGAR NE...  KARNATAKA  BENGALURU   \n",
       "\n",
       "   Pin Code Terminal Category             Serial Number  \\\n",
       "0  560016.0      Move 2500 4G  210867303061211220214180   \n",
       "1  560016.0      Move 2500 4G  210867303061211220214180   \n",
       "2  560016.0      Move 2500 4G  210867303061211220220672   \n",
       "3  560016.0      Move 2500 4G  210867303061211220220672   \n",
       "4  560091.0      Move 2500 4G  220637303061211223929476   \n",
       "\n",
       "                                    Software Version   cf_utid First Trx Date  \\\n",
       "0  M13_920810:uniPAY NEXT 8.0#02000000#WinXP_2.8....  M0015503      1/20/2022   \n",
       "1  M13_920810:uniPAY NEXT 8.0#02000000#WinXP_2.8....  M0015503      1/20/2022   \n",
       "2  M13_3829CF:uniPAY NEXT 8.0#02000000#WinXP_2.8....  M0015506      1/19/2022   \n",
       "3  M13_3829CF:uniPAY NEXT 8.0#02000000#WinXP_2.8....  M0015506      1/19/2022   \n",
       "4  M13_920810:uniPAY NEXT 8.0#02000000#WinXP_2.8....  M0016509      1/22/2022   \n",
       "\n",
       "  Last Trx Date  ticket_id  created_at           cf_issue_sub_category  \\\n",
       "0     2/17/2025    2983815  19/11/2024  Terminal Replacement - Working   \n",
       "1     2/17/2025    2983804  19/11/2024  Terminal Replacement - Working   \n",
       "2     2/19/2025    2983817  19/11/2024  Terminal Replacement - Working   \n",
       "3     2/19/2025    2983803  19/11/2024  Terminal Replacement - Working   \n",
       "4     2/19/2025    3002529  30/11/2024      Retrieval Post Replacement   \n",
       "\n",
       "       issue_type    status  \n",
       "0  Hardware Issue  resolved  \n",
       "1  Hardware Issue  resolved  \n",
       "2  Hardware Issue  resolved  \n",
       "3  Hardware Issue  resolved  \n",
       "4  Hardware Issue      open  "
      ]
     },
     "execution_count": 17,
     "metadata": {},
     "output_type": "execute_result"
    }
   ],
   "source": [
    "df.head()"
   ]
  },
  {
   "cell_type": "code",
   "execution_count": 18,
   "metadata": {},
   "outputs": [
    {
     "name": "stderr",
     "output_type": "stream",
     "text": [
      "C:\\Users\\akanksha.yadav\\AppData\\Local\\Temp\\ipykernel_179440\\3565829502.py:4: UserWarning: Parsing dates in %d/%m/%Y format when dayfirst=False (the default) was specified. Pass `dayfirst=True` or specify a format to silence this warning.\n",
      "  df[col] = pd.to_datetime(df[col], errors=\"coerce\")\n"
     ]
    }
   ],
   "source": [
    "# Convert date columns\n",
    "date_columns = [\"created_at\", \"First Trx Date\", \"Last Trx Date\"]\n",
    "for col in date_columns:\n",
    "    df[col] = pd.to_datetime(df[col], errors=\"coerce\")\n",
    "# Extract features\n",
    "df[\"created_year\"] = df[\"created_at\"].dt.year\n",
    "df[\"created_month\"] = df[\"created_at\"].dt.month\n",
    "df[\"created_day\"] = df[\"created_at\"].dt.day\n",
    "df[\"first_trx_year\"] = df[\"First Trx Date\"].dt.year\n",
    "df[\"first_trx_month\"] = df[\"First Trx Date\"].dt.month\n",
    "df[\"first_trx_day\"] = df[\"First Trx Date\"].dt.day\n",
    "df[\"last_trx_year\"] = df[\"Last Trx Date\"].dt.year\n",
    "df[\"last_trx_month\"] = df[\"Last Trx Date\"].dt.month\n",
    "df[\"last_trx_day\"] = df[\"Last Trx Date\"].dt.day\n",
    "# Drop original date columns\n"
   ]
  },
  {
   "cell_type": "code",
   "execution_count": 27,
   "metadata": {},
   "outputs": [],
   "source": [
    "from sklearn.preprocessing import LabelEncoder\n",
    "\n",
    "categorical_cols=[\"Chain\",\"Store\",\"State\",\"City\",\"Terminal Category\",\"cf_issue_sub_category\",\"issue_type\",\"status\"]\n",
    "\n",
    "le=LabelEncoder()\n",
    "for col in categorical_cols:\n",
    "    df[col]=le.fit_transform(df[col])\n",
    "df.columns=df.columns.str.strip()    "
   ]
  },
  {
   "cell_type": "code",
   "execution_count": 28,
   "metadata": {},
   "outputs": [
    {
     "name": "stdout",
     "output_type": "stream",
     "text": [
      "Features Shape: (115504, 18)\n",
      "Target Shape: (115504,)\n",
      "Training Set Shape: (92403, 18)\n",
      "Testing Set Shape: (23101, 18)\n"
     ]
    }
   ],
   "source": [
    "# Define target variable\n",
    "y = df[\"Store\"]\n",
    "# Drop unnecessary columns\n",
    "X = df.drop([\"Store\", \"Store Address\", \"Serial Number\", \"Software Version\", \"cf_utid\"], axis=1, errors=\"ignore\")\n",
    "# Check shape\n",
    "print(\"Features Shape:\", X.shape)\n",
    "print(\"Target Shape:\", y.shape)\n",
    "\n",
    "from sklearn.model_selection import train_test_split\n",
    "# Split into train (80%) and test (20%)\n",
    "X_train, X_test, y_train, y_test = train_test_split(X, y, test_size=0.2, stratify=y, random_state=42)\n",
    "print(\"Training Set Shape:\", X_train.shape)\n",
    "print(\"Testing Set Shape:\", X_test.shape)\n",
    "\n",
    "\n",
    "\n",
    "\n"
   ]
  },
  {
   "cell_type": "code",
   "execution_count": 29,
   "metadata": {},
   "outputs": [
    {
     "name": "stdout",
     "output_type": "stream",
     "text": [
      "Chain                      int64\n",
      "State                      int64\n",
      "City                       int64\n",
      "Pin Code                 float64\n",
      "Terminal Category          int64\n",
      "ticket_id                  int64\n",
      "cf_issue_sub_category      int64\n",
      "issue_type                 int64\n",
      "status                     int64\n",
      "created_year               int32\n",
      "created_month              int32\n",
      "created_day                int32\n",
      "first_trx_year             int32\n",
      "first_trx_month            int32\n",
      "first_trx_day              int32\n",
      "last_trx_year              int32\n",
      "last_trx_month             int32\n",
      "last_trx_day               int32\n",
      "dtype: object\n"
     ]
    }
   ],
   "source": [
    "print(X_train.dtypes)\n"
   ]
  },
  {
   "cell_type": "code",
   "execution_count": 30,
   "metadata": {},
   "outputs": [
    {
     "name": "stdout",
     "output_type": "stream",
     "text": [
      "After SMOTE, Training Set Shape: (546800, 18)\n"
     ]
    }
   ],
   "source": [
    "from imblearn.over_sampling import SMOTE\n",
    "# Apply SMOTE to balance the dataset\n",
    "smote = SMOTE(random_state=42)\n",
    "X_train, y_train = smote.fit_resample(X_train, y_train)\n",
    "print(\"After SMOTE, Training Set Shape:\", X_train.shape)\n"
   ]
  },
  {
   "cell_type": "code",
   "execution_count": 31,
   "metadata": {},
   "outputs": [
    {
     "ename": "",
     "evalue": "",
     "output_type": "error",
     "traceback": [
      "\u001b[1;31mThe Kernel crashed while executing code in the current cell or a previous cell. \n",
      "\u001b[1;31mPlease review the code in the cell(s) to identify a possible cause of the failure. \n",
      "\u001b[1;31mClick <a href='https://aka.ms/vscodeJupyterKernelCrash'>here</a> for more info. \n",
      "\u001b[1;31mView Jupyter <a href='command:jupyter.viewOutput'>log</a> for further details."
     ]
    }
   ],
   "source": [
    "from xgboost import XGBClassifier\n",
    "from sklearn.metrics import accuracy_score\n",
    "# Define XGBoost model\n",
    "xgb_model = XGBClassifier(\n",
    "    n_estimators=200,\n",
    "    max_depth=6,\n",
    "    learning_rate=0.05,\n",
    "    objective=\"multi:softmax\",  # Multi-class classification\n",
    "    num_class=len(y.unique()),\n",
    "    random_state=42\n",
    ")\n",
    "# Train the model\n",
    "xgb_model.fit(X_train, y_train)\n",
    "# Make predictions\n",
    "y_pred = xgb_model.predict(X_test)\n",
    "# Evaluate accuracy\n",
    "accuracy = accuracy_score(y_test, y_pred)\n",
    "print(f\"XGBoost Model Accuracy: {accuracy:.4f}\")\n",
    "\n",
    "\n"
   ]
  },
  {
   "cell_type": "code",
   "execution_count": null,
   "metadata": {},
   "outputs": [],
   "source": [
    "xgb_model_cv = XGBClassifier(\n",
    "    tree_method=\"gpu_hist\",  # Use GPU for faster computation\n",
    "    predictor=\"gpu_predictor\",\n",
    "    n_estimators=200,\n",
    "    max_depth=6,\n",
    "    learning_rate=0.05,\n",
    "    objective=\"multi:softmax\",\n",
    "    num_class=len(y_train.unique()),\n",
    "    random_state=42\n",
    ")\n",
    "\n",
    "\n"
   ]
  }
 ],
 "metadata": {
  "kernelspec": {
   "display_name": "Python 3",
   "language": "python",
   "name": "python3"
  },
  "language_info": {
   "codemirror_mode": {
    "name": "ipython",
    "version": 3
   },
   "file_extension": ".py",
   "mimetype": "text/x-python",
   "name": "python",
   "nbconvert_exporter": "python",
   "pygments_lexer": "ipython3",
   "version": "3.11.9"
  }
 },
 "nbformat": 4,
 "nbformat_minor": 2
}
